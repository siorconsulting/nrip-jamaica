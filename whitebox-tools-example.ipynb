{
 "cells": [
  {
   "cell_type": "code",
   "execution_count": 2,
   "source": [
    "import whitebox\r\n",
    "from wtb_geometric_analysis import *"
   ],
   "outputs": [],
   "metadata": {}
  },
  {
   "cell_type": "code",
   "execution_count": 3,
   "source": [
    "wbt = whitebox.WhiteboxTools()"
   ],
   "outputs": [],
   "metadata": {}
  },
  {
   "cell_type": "code",
   "execution_count": 4,
   "source": [
    "def vector_points_to_raster(i, output):\r\n",
    "    wbt.vector_points_to_raster(\r\n",
    "        i, \r\n",
    "        output, \r\n",
    "        field=\"FID\", \r\n",
    "        assign=\"last\", \r\n",
    "        nodata=True, \r\n",
    "        cell_size=None, \r\n",
    "        base=None, \r\n",
    "        callback=default_callback\r\n",
    "    )\r\n",
    "    \r\n",
    "def vector_lines_to_raster(i, output):\r\n",
    "    wbt.vector_lines_to_raster(\r\n",
    "        i, \r\n",
    "        output, \r\n",
    "        field=\"FID\", \r\n",
    "        nodata=True, \r\n",
    "        cell_size=None, \r\n",
    "        base=None, \r\n",
    "        callback=default_callback\r\n",
    "    )\r\n",
    "\r\n",
    "def vector_polygons_to_raster(i, output):\r\n",
    "    wbt.vector_polygons_to_raster(\r\n",
    "        i, \r\n",
    "        output, \r\n",
    "        field=\"FID\", \r\n",
    "        nodata=True, \r\n",
    "        cell_size=None, \r\n",
    "        base=None, \r\n",
    "        callback=default_callback\r\n",
    "    )"
   ],
   "outputs": [],
   "metadata": {}
  },
  {
   "cell_type": "code",
   "execution_count": null,
   "source": [],
   "outputs": [],
   "metadata": {}
  },
  {
   "cell_type": "code",
   "execution_count": null,
   "source": [],
   "outputs": [],
   "metadata": {}
  },
  {
   "cell_type": "code",
   "execution_count": null,
   "source": [],
   "outputs": [],
   "metadata": {}
  },
  {
   "cell_type": "code",
   "execution_count": null,
   "source": [],
   "outputs": [],
   "metadata": {}
  },
  {
   "cell_type": "code",
   "execution_count": null,
   "source": [],
   "outputs": [],
   "metadata": {}
  }
 ],
 "metadata": {
  "kernelspec": {
   "name": "python3",
   "display_name": "Python 3.7.11 64-bit ('base': conda)"
  },
  "language_info": {
   "codemirror_mode": {
    "name": "ipython",
    "version": 3
   },
   "file_extension": ".py",
   "mimetype": "text/x-python",
   "name": "python",
   "nbconvert_exporter": "python",
   "pygments_lexer": "ipython3",
   "version": "3.7.11"
  },
  "interpreter": {
   "hash": "ecf5722fdaf1897a315d257d89d94520bfcaa453217d5becf09b39e73618b0de"
  }
 },
 "nbformat": 4,
 "nbformat_minor": 5
}