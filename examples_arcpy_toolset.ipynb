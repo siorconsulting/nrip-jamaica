{
 "cells": [
  {
   "cell_type": "markdown",
   "metadata": {},
   "source": [
    "# Example notebook: how to use the ArcGIS toolset\n",
    "\n",
    "### 1. First steps\n",
    "\n",
    "Let's start by importing arcpy and other required Python libraries:"
   ]
  },
  {
   "cell_type": "code",
   "execution_count": 1,
   "metadata": {},
   "outputs": [],
   "source": [
    "import arcpy\n",
    "import os\n",
    "from arcpy.sa import *\n",
    "from arcpy import env"
   ]
  },
  {
   "cell_type": "markdown",
   "metadata": {},
   "source": [
    "Then let's import some of the modules developed for the NRIP project:"
   ]
  },
  {
   "cell_type": "code",
   "execution_count": 3,
   "metadata": {},
   "outputs": [],
   "source": [
    "from conditional_eval import *\n",
    "from hydrological_analysis import * \n",
    "from inundation_analysis import *\n",
    "from geomorphological_analysis import *\n",
    "from utils import * "
   ]
  },
  {
   "cell_type": "markdown",
   "metadata": {},
   "source": [
    "Before we start gro-processing data, we create an ArcGIS file geodatabase:"
   ]
  },
  {
   "cell_type": "code",
   "execution_count": null,
   "metadata": {},
   "outputs": [],
   "source": [
    "gdb_folder_path = 'path'\n",
    "gdb_name = 'path'\n",
    "create_geodatabase(gdb_folder_path, gdb_name)"
   ]
  },
  {
   "cell_type": "markdown",
   "metadata": {},
   "source": [
    "And we make this our default workspace:"
   ]
  },
  {
   "cell_type": "code",
   "execution_count": null,
   "metadata": {},
   "outputs": [],
   "source": [
    "env.workspace = os.path.join(gdb_folder_name,gdb_name) "
   ]
  },
  {
   "cell_type": "markdown",
   "metadata": {},
   "source": [
    "### 2. Hydrological analysis\n",
    "\n",
    "Using the hydrological analysis tools, we can derive catchment boundaries and drainage networks (e.g., rivers) from a Digital Elevation Model:"
   ]
  },
  {
   "cell_type": "code",
   "execution_count": 4,
   "metadata": {},
   "outputs": [],
   "source": [
    "DTM_raster = 'path'"
   ]
  },
  {
   "cell_type": "code",
   "execution_count": null,
   "metadata": {},
   "outputs": [],
   "source": [
    "outFill = calculate_fill(DTM_raster)"
   ]
  },
  {
   "cell_type": "code",
   "execution_count": null,
   "metadata": {},
   "outputs": [],
   "source": [
    "outFlowDirection = calculate_flow_direction(outFill)"
   ]
  },
  {
   "cell_type": "code",
   "execution_count": null,
   "metadata": {},
   "outputs": [],
   "source": [
    "outFlowAccumulation = calculate_flow_accumulation(outFlowDirection)"
   ]
  },
  {
   "cell_type": "code",
   "execution_count": null,
   "metadata": {},
   "outputs": [],
   "source": [
    "outFlowNetwork = calculate_flow_network(outFlowAccumulation, flow_acc_threshold=10000)"
   ]
  },
  {
   "cell_type": "markdown",
   "metadata": {},
   "source": [
    "Alternatively, we run the complete hydrological routine tool, which integreates all the geoprocessing steps for us and saves outputs in a geodatabase of our choice:"
   ]
  },
  {
   "cell_type": "code",
   "execution_count": null,
   "metadata": {},
   "outputs": [],
   "source": [
    "complete_hydrological_routine(gdb_folder_path, gdb_name, out_filename_root='Routine_DTM')"
   ]
  },
  {
   "cell_type": "markdown",
   "metadata": {},
   "source": [
    "### 3. Coastal inundation analysis\n",
    "\n",
    "The coastal inundation analysis tool uses a Digital Elevation Model to map the extents of flooding based on any set of maximum elevation levels:"
   ]
  },
  {
   "cell_type": "code",
   "execution_count": null,
   "metadata": {},
   "outputs": [],
   "source": [
    "out_raster_root_path = 'Inundation_extent_raster'\n",
    "out_polygon_root_path = 'Inundation_extent_polygon'\n",
    "\n",
    "inundation_extents(DTM_raster,\n",
    "                   list_thresholds=[0,10,20],\n",
    "                   out_raster_root_path=out_raster_root_path,\n",
    "                   out_polygon_root_path=out_polygon_root_path)"
   ]
  },
  {
   "cell_type": "markdown",
   "metadata": {},
   "source": [
    "### 4. Geomorphological analysis\n",
    "\n",
    "The geomorphological toolset also leverages a Digital Elebation Model to derive prodycts such as steep areaa, which are prone tolandslides and rapid runoff:"
   ]
  },
  {
   "cell_type": "code",
   "execution_count": null,
   "metadata": {},
   "outputs": [],
   "source": [
    "outSteepAreas = steep_areas(DTM_raster,\n",
    "                            out_raster_features='steep_areas_raster',\n",
    "                            out_polygon_features='steep_areas_polygon')"
   ]
  },
  {
   "cell_type": "code",
   "execution_count": null,
   "metadata": {},
   "outputs": [],
   "source": []
  },
  {
   "cell_type": "code",
   "execution_count": null,
   "metadata": {},
   "outputs": [],
   "source": []
  },
  {
   "cell_type": "code",
   "execution_count": null,
   "metadata": {},
   "outputs": [],
   "source": []
  },
  {
   "cell_type": "code",
   "execution_count": null,
   "metadata": {},
   "outputs": [],
   "source": []
  },
  {
   "cell_type": "code",
   "execution_count": null,
   "metadata": {},
   "outputs": [],
   "source": []
  },
  {
   "cell_type": "code",
   "execution_count": null,
   "metadata": {},
   "outputs": [],
   "source": []
  }
 ],
 "metadata": {
  "kernelspec": {
   "display_name": "Python 3",
   "language": "python",
   "name": "python3"
  },
  "language_info": {
   "codemirror_mode": {
    "name": "ipython",
    "version": 3
   },
   "file_extension": ".py",
   "mimetype": "text/x-python",
   "name": "python",
   "nbconvert_exporter": "python",
   "pygments_lexer": "ipython3",
   "version": "3.7.10"
  }
 },
 "nbformat": 4,
 "nbformat_minor": 4
}
