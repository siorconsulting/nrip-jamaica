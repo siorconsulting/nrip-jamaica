{
 "cells": [
  {
   "cell_type": "code",
   "execution_count": 15,
   "id": "e1214314",
   "metadata": {},
   "outputs": [],
   "source": [
    "import whitebox\n",
    "from wtb_geometric_analysis import *"
   ]
  },
  {
   "cell_type": "code",
   "execution_count": 16,
   "id": "573fb4ab",
   "metadata": {},
   "outputs": [],
   "source": [
    "wbt = whitebox.WhiteboxTools()"
   ]
  },
  {
   "cell_type": "code",
   "execution_count": 18,
   "id": "a4b0db20",
   "metadata": {},
   "outputs": [],
   "source": [
    "def vector_points_to_raster(i, output):\n",
    "    wbt.vector_points_to_raster(\n",
    "        i, \n",
    "        output, \n",
    "        field=\"FID\", \n",
    "        assign=\"last\", \n",
    "        nodata=True, \n",
    "        cell_size=None, \n",
    "        base=None, \n",
    "        callback=default_callback\n",
    "    )\n",
    "    \n",
    "def vector_lines_to_raster(i, output):\n",
    "    wbt.vector_lines_to_raster(\n",
    "        i, \n",
    "        output, \n",
    "        field=\"FID\", \n",
    "        nodata=True, \n",
    "        cell_size=None, \n",
    "        base=None, \n",
    "        callback=default_callback\n",
    "    )\n",
    "\n",
    "def vector_polygons_to_raster(i, output):\n",
    "    wbt.vector_polygons_to_raster(\n",
    "        i, \n",
    "        output, \n",
    "        field=\"FID\", \n",
    "        nodata=True, \n",
    "        cell_size=None, \n",
    "        base=None, \n",
    "        callback=default_callback\n",
    "    )"
   ]
  },
  {
   "cell_type": "code",
   "execution_count": null,
   "id": "e3dc3edf",
   "metadata": {},
   "outputs": [],
   "source": []
  },
  {
   "cell_type": "code",
   "execution_count": null,
   "id": "78d46371",
   "metadata": {},
   "outputs": [],
   "source": []
  },
  {
   "cell_type": "code",
   "execution_count": null,
   "id": "87d55edc",
   "metadata": {},
   "outputs": [],
   "source": []
  },
  {
   "cell_type": "code",
   "execution_count": null,
   "id": "c394be99",
   "metadata": {},
   "outputs": [],
   "source": []
  },
  {
   "cell_type": "code",
   "execution_count": null,
   "id": "ec7ae2bc",
   "metadata": {},
   "outputs": [],
   "source": []
  }
 ],
 "metadata": {
  "kernelspec": {
   "display_name": "Python 3 (ipykernel)",
   "language": "python",
   "name": "python3"
  },
  "language_info": {
   "codemirror_mode": {
    "name": "ipython",
    "version": 3
   },
   "file_extension": ".py",
   "mimetype": "text/x-python",
   "name": "python",
   "nbconvert_exporter": "python",
   "pygments_lexer": "ipython3",
   "version": "3.7.11"
  }
 },
 "nbformat": 4,
 "nbformat_minor": 5
}
