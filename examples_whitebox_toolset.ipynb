{
 "cells": [
  {
   "cell_type": "code",
   "execution_count": 1,
   "id": "0b40c9a9",
   "metadata": {},
   "outputs": [],
   "source": [
    "import os\n",
    "import time"
   ]
  },
  {
   "cell_type": "code",
   "execution_count": 2,
   "id": "c1f39bd5-abf7-40b8-bb9c-c562edf3d14d",
   "metadata": {},
   "outputs": [],
   "source": [
    "from wbt_geomorphological_analysis import * \n",
    "from wtb_geometric_analysis import *\n",
    "from wbt_hydrological_analysis import * "
   ]
  },
  {
   "cell_type": "code",
   "execution_count": 3,
   "id": "a0db846e-180c-48e8-98e2-19c1bee330f3",
   "metadata": {},
   "outputs": [],
   "source": [
    "import whitebox\n",
    "wbt = whitebox.WhiteboxTools()"
   ]
  },
  {
   "cell_type": "code",
   "execution_count": 3,
   "id": "2dc69f49-ef0e-4ebb-9133-b6f036a2df0c",
   "metadata": {},
   "outputs": [],
   "source": [
    "# SteepAreas(dem='dem_clip.tif',\n",
    "#            threshold=20,\n",
    "#            slope_output='slope1.tif',\n",
    "#            raster_output='steep_areas.tif',\n",
    "#            polygon_output='steep_areas.shp',\n",
    "#            working_dir=os.getcwd())"
   ]
  },
  {
   "cell_type": "code",
   "execution_count": 4,
   "id": "71dd76e3-1ec8-4351-831a-0160c386e6b5",
   "metadata": {},
   "outputs": [],
   "source": [
    "dem = 'dem_clip.tif'"
   ]
  },
  {
   "cell_type": "code",
   "execution_count": null,
   "id": "662c7eca-40bb-4258-a925-20b46176660c",
   "metadata": {},
   "outputs": [],
   "source": []
  },
  {
   "cell_type": "code",
   "execution_count": 4,
   "id": "7bcdaaa3-d814-425d-a9d4-e3c799f4d391",
   "metadata": {},
   "outputs": [
    {
     "name": "stdout",
     "output_type": "stream",
     "text": [
      ".\\whitebox_tools.exe --run=\"ZonalStatistics\" --input='dem_clip.tif' --features='jamaica_basins.tif' --output='zonal_statistics.tif' --stat=mean\n",
      "\n",
      "******************************\n",
      "* Welcome to ZonalStatistics *\n",
      "* Powered by WhiteboxTools   *\n",
      "* www.whiteboxgeo.com        *\n",
      "******************************\n",
      "Reading data...\n",
      "Progress (Loop 1 of 3): 0%\n",
      "Progress (Loop 1 of 3): 1%\n",
      "Progress (Loop 1 of 3): 2%\n",
      "Progress (Loop 1 of 3): 3%\n",
      "Progress (Loop 1 of 3): 4%\n",
      "Progress (Loop 1 of 3): 5%\n",
      "Progress (Loop 1 of 3): 6%\n",
      "Progress (Loop 1 of 3): 7%\n",
      "Progress (Loop 1 of 3): 8%\n",
      "Progress (Loop 1 of 3): 9%\n",
      "Progress (Loop 1 of 3): 10%\n",
      "Progress (Loop 1 of 3): 11%\n",
      "Progress (Loop 1 of 3): 12%\n",
      "Progress (Loop 1 of 3): 13%\n",
      "Progress (Loop 1 of 3): 14%\n",
      "Progress (Loop 1 of 3): 15%\n",
      "Progress (Loop 1 of 3): 16%\n",
      "Progress (Loop 1 of 3): 17%\n",
      "Progress (Loop 1 of 3): 18%\n",
      "Progress (Loop 1 of 3): 19%\n",
      "Progress (Loop 1 of 3): 20%\n",
      "Progress (Loop 1 of 3): 21%\n",
      "Progress (Loop 1 of 3): 22%\n",
      "Progress (Loop 1 of 3): 23%\n",
      "Progress (Loop 1 of 3): 24%\n",
      "Progress (Loop 1 of 3): 25%\n",
      "Progress (Loop 1 of 3): 26%\n",
      "Progress (Loop 1 of 3): 27%\n",
      "Progress (Loop 1 of 3): 28%\n",
      "Progress (Loop 1 of 3): 29%\n",
      "Progress (Loop 1 of 3): 30%\n",
      "Progress (Loop 1 of 3): 31%\n",
      "Progress (Loop 1 of 3): 32%\n",
      "Progress (Loop 1 of 3): 33%\n",
      "Progress (Loop 1 of 3): 34%\n",
      "Progress (Loop 1 of 3): 35%\n",
      "Progress (Loop 1 of 3): 36%\n",
      "Progress (Loop 1 of 3): 37%\n",
      "Progress (Loop 1 of 3): 38%\n",
      "Progress (Loop 1 of 3): 39%\n",
      "Progress (Loop 1 of 3): 40%\n",
      "Progress (Loop 1 of 3): 41%\n",
      "Progress (Loop 1 of 3): 42%\n",
      "Progress (Loop 1 of 3): 43%\n",
      "Progress (Loop 1 of 3): 44%\n",
      "Progress (Loop 1 of 3): 45%\n",
      "Progress (Loop 1 of 3): 46%\n",
      "Progress (Loop 1 of 3): 47%\n",
      "Progress (Loop 1 of 3): 48%\n",
      "Progress (Loop 1 of 3): 49%\n",
      "Progress (Loop 1 of 3): 50%\n",
      "Progress (Loop 1 of 3): 51%\n",
      "Progress (Loop 1 of 3): 52%\n",
      "Progress (Loop 1 of 3): 53%\n",
      "Progress (Loop 1 of 3): 54%\n",
      "Progress (Loop 1 of 3): 55%\n",
      "Progress (Loop 1 of 3): 56%\n",
      "Progress (Loop 1 of 3): 57%\n",
      "Progress (Loop 1 of 3): 58%\n",
      "Progress (Loop 1 of 3): 59%\n",
      "Progress (Loop 1 of 3): 60%\n",
      "Progress (Loop 1 of 3): 61%\n",
      "Progress (Loop 1 of 3): 62%\n",
      "Progress (Loop 1 of 3): 63%\n",
      "Progress (Loop 1 of 3): 64%\n",
      "Progress (Loop 1 of 3): 65%\n",
      "Progress (Loop 1 of 3): 66%\n",
      "Progress (Loop 1 of 3): 67%\n",
      "Progress (Loop 1 of 3): 68%\n",
      "Progress (Loop 1 of 3): 69%\n",
      "Progress (Loop 1 of 3): 70%\n",
      "Progress (Loop 1 of 3): 71%\n",
      "Progress (Loop 1 of 3): 72%\n",
      "Progress (Loop 1 of 3): 73%\n",
      "Progress (Loop 1 of 3): 74%\n",
      "Progress (Loop 1 of 3): 75%\n",
      "Progress (Loop 1 of 3): 76%\n",
      "Progress (Loop 1 of 3): 77%\n",
      "Progress (Loop 1 of 3): 78%\n",
      "Progress (Loop 1 of 3): 79%\n",
      "Progress (Loop 1 of 3): 80%\n",
      "Progress (Loop 1 of 3): 81%\n",
      "Progress (Loop 1 of 3): 82%\n",
      "Progress (Loop 1 of 3): 83%\n",
      "Progress (Loop 1 of 3): 84%\n",
      "Progress (Loop 1 of 3): 85%\n",
      "Progress (Loop 1 of 3): 86%\n",
      "Progress (Loop 1 of 3): 87%\n",
      "Progress (Loop 1 of 3): 88%\n",
      "Progress (Loop 1 of 3): 89%\n",
      "Progress (Loop 1 of 3): 90%\n",
      "Progress (Loop 1 of 3): 91%\n",
      "Progress (Loop 1 of 3): 92%\n",
      "Progress (Loop 1 of 3): 93%\n",
      "Progress (Loop 1 of 3): 94%\n",
      "Progress (Loop 1 of 3): 95%\n",
      "Progress (Loop 1 of 3): 96%\n",
      "Progress (Loop 1 of 3): 97%\n",
      "Progress (Loop 1 of 3): 98%\n",
      "Progress (Loop 1 of 3): 99%\n",
      "Progress (Loop 1 of 3): 100%\n",
      "Progress (Loop 2 of 3): 0%\n",
      "Progress (Loop 2 of 3): 1%\n",
      "Progress (Loop 2 of 3): 2%\n",
      "Progress (Loop 2 of 3): 3%\n",
      "Progress (Loop 2 of 3): 4%\n",
      "Progress (Loop 2 of 3): 5%\n",
      "Progress (Loop 2 of 3): 6%\n",
      "Progress (Loop 2 of 3): 7%\n",
      "Progress (Loop 2 of 3): 8%\n",
      "Progress (Loop 2 of 3): 9%\n",
      "Progress (Loop 2 of 3): 10%\n",
      "Progress (Loop 2 of 3): 11%\n",
      "Progress (Loop 2 of 3): 12%\n",
      "Progress (Loop 2 of 3): 13%\n",
      "Progress (Loop 2 of 3): 14%\n",
      "Progress (Loop 2 of 3): 15%\n",
      "Progress (Loop 2 of 3): 16%\n",
      "Progress (Loop 2 of 3): 17%\n",
      "Progress (Loop 2 of 3): 18%\n",
      "Progress (Loop 2 of 3): 19%\n",
      "Progress (Loop 2 of 3): 20%\n",
      "Progress (Loop 2 of 3): 21%\n",
      "Progress (Loop 2 of 3): 22%\n",
      "Progress (Loop 2 of 3): 23%\n",
      "Progress (Loop 2 of 3): 24%\n",
      "Progress (Loop 2 of 3): 25%\n",
      "Progress (Loop 2 of 3): 26%\n",
      "Progress (Loop 2 of 3): 27%\n",
      "Progress (Loop 2 of 3): 28%\n",
      "Progress (Loop 2 of 3): 29%\n",
      "Progress (Loop 2 of 3): 30%\n",
      "Progress (Loop 2 of 3): 31%\n",
      "Progress (Loop 2 of 3): 32%\n",
      "Progress (Loop 2 of 3): 33%\n",
      "Progress (Loop 2 of 3): 34%\n",
      "Progress (Loop 2 of 3): 35%\n",
      "Progress (Loop 2 of 3): 36%\n",
      "Progress (Loop 2 of 3): 37%\n",
      "Progress (Loop 2 of 3): 38%\n",
      "Progress (Loop 2 of 3): 39%\n",
      "Progress (Loop 2 of 3): 40%\n",
      "Progress (Loop 2 of 3): 41%\n",
      "Progress (Loop 2 of 3): 42%\n",
      "Progress (Loop 2 of 3): 43%\n",
      "Progress (Loop 2 of 3): 44%\n",
      "Progress (Loop 2 of 3): 45%\n",
      "Progress (Loop 2 of 3): 46%\n",
      "Progress (Loop 2 of 3): 47%\n",
      "Progress (Loop 2 of 3): 48%\n",
      "Progress (Loop 2 of 3): 49%\n",
      "Progress (Loop 2 of 3): 50%\n",
      "Progress (Loop 2 of 3): 51%\n",
      "Progress (Loop 2 of 3): 52%\n",
      "Progress (Loop 2 of 3): 53%\n",
      "Progress (Loop 2 of 3): 54%\n",
      "Progress (Loop 2 of 3): 55%\n",
      "Progress (Loop 2 of 3): 56%\n",
      "Progress (Loop 2 of 3): 57%\n",
      "Progress (Loop 2 of 3): 58%\n",
      "Progress (Loop 2 of 3): 59%\n",
      "Progress (Loop 2 of 3): 60%\n",
      "Progress (Loop 2 of 3): 61%\n",
      "Progress (Loop 2 of 3): 62%\n",
      "Progress (Loop 2 of 3): 63%\n",
      "Progress (Loop 2 of 3): 64%\n",
      "Progress (Loop 2 of 3): 65%\n",
      "Progress (Loop 2 of 3): 66%\n",
      "Progress (Loop 2 of 3): 67%\n",
      "Progress (Loop 2 of 3): 68%\n",
      "Progress (Loop 2 of 3): 69%\n",
      "Progress (Loop 2 of 3): 70%\n",
      "Progress (Loop 2 of 3): 71%\n",
      "Progress (Loop 2 of 3): 72%\n",
      "Progress (Loop 2 of 3): 73%\n",
      "Progress (Loop 2 of 3): 74%\n",
      "Progress (Loop 2 of 3): 75%\n",
      "Progress (Loop 2 of 3): 76%\n",
      "Progress (Loop 2 of 3): 77%\n",
      "Progress (Loop 2 of 3): 78%\n",
      "Progress (Loop 2 of 3): 79%\n",
      "Progress (Loop 2 of 3): 80%\n",
      "Progress (Loop 2 of 3): 81%\n",
      "Progress (Loop 2 of 3): 82%\n",
      "Progress (Loop 2 of 3): 83%\n",
      "Progress (Loop 2 of 3): 84%\n",
      "Progress (Loop 2 of 3): 85%\n",
      "Progress (Loop 2 of 3): 86%\n",
      "Progress (Loop 2 of 3): 87%\n",
      "Progress (Loop 2 of 3): 88%\n",
      "Progress (Loop 2 of 3): 89%\n",
      "Progress (Loop 2 of 3): 90%\n",
      "Progress (Loop 2 of 3): 91%\n",
      "Progress (Loop 2 of 3): 92%\n",
      "Progress (Loop 2 of 3): 93%\n",
      "Progress (Loop 2 of 3): 94%\n",
      "Progress (Loop 2 of 3): 95%\n",
      "Progress (Loop 2 of 3): 96%\n",
      "Progress (Loop 2 of 3): 97%\n",
      "Progress (Loop 2 of 3): 98%\n",
      "Progress (Loop 2 of 3): 99%\n",
      "Progress (Loop 2 of 3): 100%\n",
      "Progress (Loop 3 of 3): 0%\n",
      "Progress (Loop 3 of 3): 1%\n",
      "Progress (Loop 3 of 3): 2%\n",
      "Progress (Loop 3 of 3): 3%\n",
      "Progress (Loop 3 of 3): 4%\n",
      "Progress (Loop 3 of 3): 5%\n",
      "Progress (Loop 3 of 3): 6%\n",
      "Progress (Loop 3 of 3): 7%\n",
      "Progress (Loop 3 of 3): 8%\n",
      "Progress (Loop 3 of 3): 9%\n",
      "Progress (Loop 3 of 3): 10%\n",
      "Progress (Loop 3 of 3): 11%\n",
      "Progress (Loop 3 of 3): 12%\n",
      "Progress (Loop 3 of 3): 13%\n",
      "Progress (Loop 3 of 3): 14%\n",
      "Progress (Loop 3 of 3): 15%\n",
      "Progress (Loop 3 of 3): 16%\n",
      "Progress (Loop 3 of 3): 17%\n",
      "Progress (Loop 3 of 3): 18%\n",
      "Progress (Loop 3 of 3): 19%\n",
      "Progress (Loop 3 of 3): 20%\n",
      "Progress (Loop 3 of 3): 21%\n",
      "Progress (Loop 3 of 3): 22%\n",
      "Progress (Loop 3 of 3): 23%\n",
      "Progress (Loop 3 of 3): 24%\n",
      "Progress (Loop 3 of 3): 25%\n",
      "Progress (Loop 3 of 3): 26%\n",
      "Progress (Loop 3 of 3): 27%\n",
      "Progress (Loop 3 of 3): 28%\n",
      "Progress (Loop 3 of 3): 29%\n",
      "Progress (Loop 3 of 3): 30%\n",
      "Progress (Loop 3 of 3): 31%\n",
      "Progress (Loop 3 of 3): 32%\n",
      "Progress (Loop 3 of 3): 33%\n",
      "Progress (Loop 3 of 3): 34%\n",
      "Progress (Loop 3 of 3): 35%\n",
      "Progress (Loop 3 of 3): 36%\n",
      "Progress (Loop 3 of 3): 37%\n",
      "Progress (Loop 3 of 3): 38%\n",
      "Progress (Loop 3 of 3): 39%\n",
      "Progress (Loop 3 of 3): 40%\n",
      "Progress (Loop 3 of 3): 41%\n",
      "Progress (Loop 3 of 3): 42%\n",
      "Progress (Loop 3 of 3): 43%\n",
      "Progress (Loop 3 of 3): 44%\n",
      "Progress (Loop 3 of 3): 45%\n",
      "Progress (Loop 3 of 3): 46%\n",
      "Progress (Loop 3 of 3): 47%\n",
      "Progress (Loop 3 of 3): 48%\n",
      "Progress (Loop 3 of 3): 49%\n",
      "Progress (Loop 3 of 3): 50%\n",
      "Progress (Loop 3 of 3): 51%\n",
      "Progress (Loop 3 of 3): 52%\n",
      "Progress (Loop 3 of 3): 53%\n",
      "Progress (Loop 3 of 3): 54%\n",
      "Progress (Loop 3 of 3): 55%\n",
      "Progress (Loop 3 of 3): 56%\n",
      "Progress (Loop 3 of 3): 57%\n",
      "Progress (Loop 3 of 3): 58%\n",
      "Progress (Loop 3 of 3): 59%\n",
      "Progress (Loop 3 of 3): 60%\n",
      "Progress (Loop 3 of 3): 61%\n",
      "Progress (Loop 3 of 3): 62%\n",
      "Progress (Loop 3 of 3): 63%\n",
      "Progress (Loop 3 of 3): 64%\n",
      "Progress (Loop 3 of 3): 65%\n",
      "Progress (Loop 3 of 3): 66%\n",
      "Progress (Loop 3 of 3): 67%\n",
      "Progress (Loop 3 of 3): 68%\n",
      "Progress (Loop 3 of 3): 69%\n",
      "Progress (Loop 3 of 3): 70%\n",
      "Progress (Loop 3 of 3): 71%\n",
      "Progress (Loop 3 of 3): 72%\n",
      "Progress (Loop 3 of 3): 73%\n",
      "Progress (Loop 3 of 3): 74%\n",
      "Progress (Loop 3 of 3): 75%\n",
      "Progress (Loop 3 of 3): 76%\n",
      "Progress (Loop 3 of 3): 77%\n",
      "Progress (Loop 3 of 3): 78%\n",
      "Progress (Loop 3 of 3): 79%\n",
      "Progress (Loop 3 of 3): 80%\n",
      "Progress (Loop 3 of 3): 81%\n",
      "Progress (Loop 3 of 3): 82%\n",
      "Progress (Loop 3 of 3): 83%\n",
      "Progress (Loop 3 of 3): 84%\n",
      "Progress (Loop 3 of 3): 85%\n",
      "Progress (Loop 3 of 3): 86%\n",
      "Progress (Loop 3 of 3): 87%\n",
      "Progress (Loop 3 of 3): 88%\n",
      "Progress (Loop 3 of 3): 89%\n",
      "Progress (Loop 3 of 3): 90%\n",
      "Progress (Loop 3 of 3): 91%\n",
      "Progress (Loop 3 of 3): 92%\n",
      "Progress (Loop 3 of 3): 93%\n",
      "Progress (Loop 3 of 3): 94%\n",
      "Progress (Loop 3 of 3): 95%\n",
      "Progress (Loop 3 of 3): 96%\n",
      "Progress (Loop 3 of 3): 97%\n",
      "Progress (Loop 3 of 3): 98%\n",
      "Progress (Loop 3 of 3): 99%\n",
      "Progress (Loop 3 of 3): 100%\n",
      "Calculating medians...\n",
      "Output: 0%\n",
      "Output: 1%\n",
      "Output: 2%\n",
      "Output: 3%\n",
      "Output: 4%\n",
      "Output: 5%\n",
      "Output: 6%\n",
      "Output: 7%\n",
      "Output: 8%\n",
      "Output: 9%\n",
      "Output: 10%\n",
      "Output: 11%\n",
      "Output: 12%\n",
      "Output: 13%\n",
      "Output: 14%\n",
      "Output: 15%\n",
      "Output: 16%\n",
      "Output: 17%\n",
      "Output: 18%\n",
      "Output: 19%\n",
      "Output: 20%\n",
      "Output: 21%\n",
      "Output: 22%\n",
      "Output: 23%\n",
      "Output: 24%\n",
      "Output: 25%\n",
      "Output: 26%\n",
      "Output: 27%\n",
      "Output: 28%\n",
      "Output: 29%\n",
      "Output: 30%\n",
      "Output: 31%\n",
      "Output: 32%\n",
      "Output: 33%\n",
      "Output: 34%\n",
      "Output: 35%\n",
      "Output: 36%\n",
      "Output: 37%\n",
      "Output: 38%\n",
      "Output: 39%\n",
      "Output: 40%\n",
      "Output: 41%\n",
      "Output: 42%\n",
      "Output: 43%\n",
      "Output: 44%\n",
      "Output: 45%\n",
      "Output: 46%\n",
      "Output: 47%\n",
      "Output: 48%\n",
      "Output: 49%\n",
      "Output: 50%\n",
      "Output: 51%\n",
      "Output: 52%\n",
      "Output: 53%\n",
      "Output: 54%\n",
      "Output: 55%\n",
      "Output: 56%\n",
      "Output: 57%\n",
      "Output: 58%\n",
      "Output: 59%\n",
      "Output: 60%\n",
      "Output: 61%\n",
      "Output: 62%\n",
      "Output: 63%\n",
      "Output: 64%\n",
      "Output: 65%\n",
      "Output: 66%\n",
      "Output: 67%\n",
      "Output: 68%\n",
      "Output: 69%\n",
      "Output: 70%\n",
      "Output: 71%\n",
      "Output: 72%\n",
      "Output: 73%\n",
      "Output: 74%\n",
      "Output: 75%\n",
      "Output: 76%\n",
      "Output: 77%\n",
      "Output: 78%\n",
      "Output: 79%\n",
      "Output: 80%\n",
      "Output: 81%\n",
      "Output: 82%\n",
      "Output: 83%\n",
      "Output: 84%\n",
      "Output: 85%\n",
      "Output: 86%\n",
      "Output: 87%\n",
      "Output: 88%\n",
      "Output: 89%\n",
      "Output: 90%\n",
      "Output: 91%\n",
      "Output: 92%\n",
      "Output: 93%\n",
      "Output: 94%\n",
      "Output: 95%\n",
      "Output: 96%\n",
      "Output: 97%\n",
      "Output: 98%\n",
      "Output: 99%\n",
      "Output: 100%\n",
      "Saving data...\n",
      "Output file written\n",
      "Elapsed Time (excluding I/O): 3.994s\n"
     ]
    },
    {
     "data": {
      "text/plain": [
       "0"
      ]
     },
     "execution_count": 4,
     "metadata": {},
     "output_type": "execute_result"
    }
   ],
   "source": [
    "wbt.zonal_statistics(i='dem_clip.tif', features='jamaica_basins.tif', output='zonal_statistics.tif',stat='mean')"
   ]
  },
  {
   "cell_type": "code",
   "execution_count": 5,
   "id": "b8c5f3c8-a114-43fe-a073-b64b4aba33df",
   "metadata": {},
   "outputs": [],
   "source": [
    "wbt_hydrological_routine(dem=dem,output_prefix='jamaica',working_dir=os.getcwd(),remove_temp_outputs=False)"
   ]
  },
  {
   "cell_type": "code",
   "execution_count": 8,
   "id": "685656c3",
   "metadata": {},
   "outputs": [
    {
     "data": {
      "text/plain": [
       "\"WhiteboxTools v2.0.0 by Dr. John B. Lindsay (c) 2017-2021\\n\\nWhiteboxTools is an advanced geospatial data analysis platform developed at\\nthe University of Guelph's Geomorphometry and Hydrogeomatics Research \\nGroup (GHRG). See www.whiteboxgeo.com for more details.\\n\""
      ]
     },
     "execution_count": 8,
     "metadata": {},
     "output_type": "execute_result"
    }
   ],
   "source": [
    "import whitebox\n",
    "wbt = whitebox.WhiteboxTools()\n",
    "wbt.set_working_dir(os.getcwd())\n",
    "wbt.verbose\n",
    "wbt.version()"
   ]
  },
  {
   "cell_type": "code",
   "execution_count": 3,
   "id": "2c4f86cc",
   "metadata": {},
   "outputs": [],
   "source": [
    "import wtb_geometric_analysis"
   ]
  },
  {
   "cell_type": "code",
   "execution_count": 5,
   "id": "c8600101",
   "metadata": {},
   "outputs": [],
   "source": [
    "root_dir = os.getcwd()"
   ]
  },
  {
   "cell_type": "code",
   "execution_count": 5,
   "id": "99a70e0d",
   "metadata": {},
   "outputs": [],
   "source": [
    "wbt.verbose = False\n",
    "wbt.set_working_dir(root_dir)"
   ]
  },
  {
   "cell_type": "code",
   "execution_count": 3,
   "id": "722f36c3",
   "metadata": {},
   "outputs": [],
   "source": [
    "# Define DEM\n",
    "dem_unclipped = os.path.join(r'D:\\Sior Consulting Limited\\CEAC Solutions - Documents\\JAMNRIP Jamaica NRIP\\Incoming Data\\DESCJam DEM World Bank-LOCJamaica-FROMEdson-VIAMyCloud-DATE051021','DEM_30m.tif')"
   ]
  },
  {
   "cell_type": "code",
   "execution_count": 4,
   "id": "9e01ddac",
   "metadata": {},
   "outputs": [],
   "source": [
    "\n",
    "out_dem = 'dem_fill.tif'\n",
    "out_fdir = 'dem_fdir.tif'\n",
    "out_facc = 'dem_facc.tif'\n",
    "out_basins = 'dem_basins.tif'\n",
    "out_slope = 'dem_slope.tif'\n",
    "out_aspect = 'dem_aspect.tif'\n",
    "dem_clip = 'dem_clip.tif'"
   ]
  },
  {
   "cell_type": "code",
   "execution_count": 8,
   "id": "d21d71de-3e80-40ab-ad51-06f7c5f1dc5f",
   "metadata": {},
   "outputs": [
    {
     "name": "stdout",
     "output_type": "stream",
     "text": [
      "Time elapsed: 12.51\n"
     ]
    }
   ],
   "source": [
    "# Clip DEM\n",
    "start = time.time()\n",
    "wbt.conditional_evaluation(dem_unclipped, dem, statement='value > 0 ', true=dem_unclipped, false='null')\n",
    "elapsed = time.time() - start\n",
    "print(f'Time elapsed: {elapsed:.2f}')"
   ]
  },
  {
   "cell_type": "code",
   "execution_count": 9,
   "id": "9785fe08",
   "metadata": {},
   "outputs": [
    {
     "name": "stdout",
     "output_type": "stream",
     "text": [
      "Time elapsed: 7.77\n"
     ]
    }
   ],
   "source": [
    "# Calculate fill depressions\n",
    "start = time.time()\n",
    "wbt.fill_depressions(dem, out_dem)\n",
    "elapsed = time.time() - start\n",
    "print(f'Time elapsed: {elapsed:.2f}')"
   ]
  },
  {
   "cell_type": "code",
   "execution_count": 11,
   "id": "8e55f0ec",
   "metadata": {},
   "outputs": [
    {
     "name": "stdout",
     "output_type": "stream",
     "text": [
      "Time elapsed: 5.24\n"
     ]
    }
   ],
   "source": [
    "# Calculate flow direction\n",
    "start = time.time()\n",
    "wbt.d8_pointer(out_dem, out_fdir, esri_pntr=True)\n",
    "elapsed = time.time() - start\n",
    "print(f'Time elapsed: {elapsed:.2f}')"
   ]
  },
  {
   "cell_type": "code",
   "execution_count": 12,
   "id": "027891a3",
   "metadata": {},
   "outputs": [
    {
     "name": "stdout",
     "output_type": "stream",
     "text": [
      "Time elapsed: 7.44\n"
     ]
    }
   ],
   "source": [
    "# Calculate flow accumulation\n",
    "start = time.time()\n",
    "wbt.d8_flow_accumulation(out_fdir, out_facc, esri_pntr=True)\n",
    "elapsed = time.time() - start\n",
    "print(f'Time elapsed: {elapsed:.2f}')"
   ]
  },
  {
   "cell_type": "code",
   "execution_count": 14,
   "id": "47e21e85",
   "metadata": {},
   "outputs": [
    {
     "name": "stdout",
     "output_type": "stream",
     "text": [
      "Time elapsed: 5.47\n"
     ]
    }
   ],
   "source": [
    "# Calculate basins\n",
    "start = time.time()\n",
    "wbt.basins(out_fdir, out_basins, esri_pntr=True)\n",
    "elapsed = time.time() - start\n",
    "print(f'Time elapsed: {elapsed:.2f}')"
   ]
  },
  {
   "cell_type": "code",
   "execution_count": 19,
   "id": "3391be42",
   "metadata": {},
   "outputs": [
    {
     "data": {
      "text/plain": [
       "0"
      ]
     },
     "execution_count": 19,
     "metadata": {},
     "output_type": "execute_result"
    }
   ],
   "source": [
    "# Calculate slope\n",
    "wbt.slope(dem, out_slope)"
   ]
  },
  {
   "cell_type": "code",
   "execution_count": 21,
   "id": "ef60d4a5-bed5-4c30-82d2-209fc4d1c578",
   "metadata": {},
   "outputs": [
    {
     "data": {
      "text/plain": [
       "0"
      ]
     },
     "execution_count": 21,
     "metadata": {},
     "output_type": "execute_result"
    }
   ],
   "source": [
    "# Calculate aspect\n",
    "wbt.aspect(dem, out_aspect)"
   ]
  },
  {
   "cell_type": "code",
   "execution_count": null,
   "id": "89cad5a1",
   "metadata": {},
   "outputs": [],
   "source": [
    "wbt.euclidean_distance(input_raster, output_raster)"
   ]
  },
  {
   "cell_type": "code",
   "execution_count": null,
   "id": "5d1ce8c7",
   "metadata": {},
   "outputs": [],
   "source": []
  },
  {
   "cell_type": "code",
   "execution_count": null,
   "id": "2e949ba2",
   "metadata": {},
   "outputs": [],
   "source": []
  },
  {
   "cell_type": "code",
   "execution_count": null,
   "id": "5e1e8bca",
   "metadata": {},
   "outputs": [],
   "source": []
  },
  {
   "cell_type": "code",
   "execution_count": null,
   "id": "51d65a73",
   "metadata": {},
   "outputs": [],
   "source": []
  },
  {
   "cell_type": "code",
   "execution_count": null,
   "id": "e6f7b8a6",
   "metadata": {},
   "outputs": [],
   "source": []
  },
  {
   "cell_type": "code",
   "execution_count": 8,
   "id": "086c9fd1",
   "metadata": {},
   "outputs": [],
   "source": [
    "# Map = leafmap.Map()\n",
    "# Map.add_raster(dem, colormap='terrain', layer_name='DEM')"
   ]
  },
  {
   "cell_type": "code",
   "execution_count": null,
   "id": "fdae88e7",
   "metadata": {},
   "outputs": [],
   "source": []
  },
  {
   "cell_type": "code",
   "execution_count": null,
   "id": "1a66b9ba",
   "metadata": {},
   "outputs": [],
   "source": []
  },
  {
   "cell_type": "code",
   "execution_count": null,
   "id": "f195abeb",
   "metadata": {},
   "outputs": [],
   "source": []
  },
  {
   "cell_type": "code",
   "execution_count": null,
   "id": "0d6dce4b",
   "metadata": {},
   "outputs": [],
   "source": []
  },
  {
   "cell_type": "code",
   "execution_count": null,
   "id": "3eb96e08",
   "metadata": {},
   "outputs": [],
   "source": []
  }
 ],
 "metadata": {
  "kernelspec": {
   "display_name": "Python 3 (ipykernel)",
   "language": "python",
   "name": "python3"
  },
  "language_info": {
   "codemirror_mode": {
    "name": "ipython",
    "version": 3
   },
   "file_extension": ".py",
   "mimetype": "text/x-python",
   "name": "python",
   "nbconvert_exporter": "python",
   "pygments_lexer": "ipython3",
   "version": "3.9.5"
  }
 },
 "nbformat": 4,
 "nbformat_minor": 5
}
